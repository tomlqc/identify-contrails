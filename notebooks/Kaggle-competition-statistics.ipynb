{
 "cells": [
  {
   "cell_type": "markdown",
   "id": "3d4eae9f",
   "metadata": {},
   "source": [
    "# Kaggle Competition Statistics"
   ]
  },
  {
   "cell_type": "code",
   "execution_count": 1,
   "id": "d10f5f48",
   "metadata": {},
   "outputs": [],
   "source": [
    "import datetime\n",
    "import requests\n",
    "import zipfile\n",
    "\n",
    "import numpy as np\n",
    "import pandas as pd\n",
    "\n",
    "import matplotlib.pyplot as plt"
   ]
  },
  {
   "cell_type": "code",
   "execution_count": 2,
   "id": "f918fa2f",
   "metadata": {},
   "outputs": [
    {
     "data": {
      "text/plain": [
       "'Tue Aug 15 21:54:44 2023'"
      ]
     },
     "execution_count": 2,
     "metadata": {},
     "output_type": "execute_result"
    }
   ],
   "source": [
    "datetime.datetime.now().ctime()"
   ]
  },
  {
   "cell_type": "code",
   "execution_count": 3,
   "id": "bfd87c99",
   "metadata": {},
   "outputs": [],
   "source": [
    "doc_name = 'google-research-identify-contrails-reduce-global-warming-publicleaderboard'\n",
    "\n",
    "zip_path = f'{doc_name}.zip'\n",
    "csv_path = f'{doc_name}.csv'"
   ]
  },
  {
   "cell_type": "code",
   "execution_count": 4,
   "id": "ceacd68a",
   "metadata": {},
   "outputs": [
    {
     "data": {
      "text/plain": [
       "32801"
      ]
     },
     "execution_count": 4,
     "metadata": {},
     "output_type": "execute_result"
    }
   ],
   "source": [
    "# Download leaderboard\n",
    "PRIVATE = True\n",
    "\n",
    "if PRIVATE:\n",
    "    url = 'https://www.kaggle.com/competitions/51753/leaderboard/download/private'\n",
    "else:\n",
    "    url = 'https://www.kaggle.com/competitions/51753/leaderboard/download/public'\n",
    "\n",
    "req = requests.get(url, allow_redirects=True)\n",
    "open(zip_path, 'wb').write(req.content)"
   ]
  },
  {
   "cell_type": "code",
   "execution_count": 5,
   "id": "05a347ce",
   "metadata": {},
   "outputs": [],
   "source": [
    "#with zipfile.ZipFile(zip_path, 'r') as zip_file:\n",
    "#    #zip_ref.extractall(directory_to_extract_to)\n",
    "#    print(zip_file.namelist())"
   ]
  },
  {
   "cell_type": "code",
   "execution_count": 6,
   "id": "27bc0249",
   "metadata": {},
   "outputs": [],
   "source": [
    "# Read leaderboard as zipped csv\n",
    "df = pd.read_csv(zip_path)"
   ]
  },
  {
   "cell_type": "code",
   "execution_count": 7,
   "id": "099941ae",
   "metadata": {},
   "outputs": [
    {
     "data": {
      "text/html": [
       "<div>\n",
       "<style scoped>\n",
       "    .dataframe tbody tr th:only-of-type {\n",
       "        vertical-align: middle;\n",
       "    }\n",
       "\n",
       "    .dataframe tbody tr th {\n",
       "        vertical-align: top;\n",
       "    }\n",
       "\n",
       "    .dataframe thead th {\n",
       "        text-align: right;\n",
       "    }\n",
       "</style>\n",
       "<table border=\"1\" class=\"dataframe\">\n",
       "  <thead>\n",
       "    <tr style=\"text-align: right;\">\n",
       "      <th></th>\n",
       "      <th>Rank</th>\n",
       "      <th>TeamId</th>\n",
       "      <th>TeamName</th>\n",
       "      <th>LastSubmissionDate</th>\n",
       "      <th>Score</th>\n",
       "      <th>SubmissionCount</th>\n",
       "      <th>TeamMemberUserNames</th>\n",
       "    </tr>\n",
       "  </thead>\n",
       "  <tbody>\n",
       "    <tr>\n",
       "      <th>0</th>\n",
       "      <td>1</td>\n",
       "      <td>10581265</td>\n",
       "      <td>🐢 Jun Koda</td>\n",
       "      <td>2023-08-09 13:12:53</td>\n",
       "      <td>0.72432</td>\n",
       "      <td>49</td>\n",
       "      <td>junkoda</td>\n",
       "    </tr>\n",
       "    <tr>\n",
       "      <th>1</th>\n",
       "      <td>2</td>\n",
       "      <td>10597072</td>\n",
       "      <td>DIT</td>\n",
       "      <td>2023-08-09 19:27:14</td>\n",
       "      <td>0.72304</td>\n",
       "      <td>47</td>\n",
       "      <td>drhabib,iafoss,theoviel</td>\n",
       "    </tr>\n",
       "    <tr>\n",
       "      <th>2</th>\n",
       "      <td>3</td>\n",
       "      <td>10582935</td>\n",
       "      <td>Preferred Contrail</td>\n",
       "      <td>2023-08-09 17:17:18</td>\n",
       "      <td>0.72259</td>\n",
       "      <td>161</td>\n",
       "      <td>charmq,knshnb,yoichi7yamakawa</td>\n",
       "    </tr>\n",
       "    <tr>\n",
       "      <th>3</th>\n",
       "      <td>4</td>\n",
       "      <td>10438139</td>\n",
       "      <td>KDL</td>\n",
       "      <td>2023-08-09 14:51:35</td>\n",
       "      <td>0.71498</td>\n",
       "      <td>229</td>\n",
       "      <td>ivanpan,mpware,selimsef</td>\n",
       "    </tr>\n",
       "    <tr>\n",
       "      <th>4</th>\n",
       "      <td>5</td>\n",
       "      <td>10372267</td>\n",
       "      <td>Fight for Gold</td>\n",
       "      <td>2023-08-09 17:45:58</td>\n",
       "      <td>0.71489</td>\n",
       "      <td>198</td>\n",
       "      <td>imakarov,wuliaokaola</td>\n",
       "    </tr>\n",
       "    <tr>\n",
       "      <th>...</th>\n",
       "      <td>...</td>\n",
       "      <td>...</td>\n",
       "      <td>...</td>\n",
       "      <td>...</td>\n",
       "      <td>...</td>\n",
       "      <td>...</td>\n",
       "      <td>...</td>\n",
       "    </tr>\n",
       "    <tr>\n",
       "      <th>949</th>\n",
       "      <td>950</td>\n",
       "      <td>10570104</td>\n",
       "      <td>Igor Krasikov</td>\n",
       "      <td>2023-06-18 19:31:20</td>\n",
       "      <td>0.00000</td>\n",
       "      <td>1</td>\n",
       "      <td>igorkrasikov</td>\n",
       "    </tr>\n",
       "    <tr>\n",
       "      <th>950</th>\n",
       "      <td>951</td>\n",
       "      <td>10544811</td>\n",
       "      <td>peace</td>\n",
       "      <td>2023-07-18 13:14:33</td>\n",
       "      <td>0.00000</td>\n",
       "      <td>1</td>\n",
       "      <td>justinlamlamlam,kebenny</td>\n",
       "    </tr>\n",
       "    <tr>\n",
       "      <th>951</th>\n",
       "      <td>952</td>\n",
       "      <td>10715165</td>\n",
       "      <td>Navid Navid</td>\n",
       "      <td>2023-07-24 16:18:11</td>\n",
       "      <td>0.00000</td>\n",
       "      <td>3</td>\n",
       "      <td>nickyazdani</td>\n",
       "    </tr>\n",
       "    <tr>\n",
       "      <th>952</th>\n",
       "      <td>953</td>\n",
       "      <td>10450917</td>\n",
       "      <td>BadApple34</td>\n",
       "      <td>2023-08-09 08:32:50</td>\n",
       "      <td>0.00000</td>\n",
       "      <td>3</td>\n",
       "      <td>badapple34</td>\n",
       "    </tr>\n",
       "    <tr>\n",
       "      <th>953</th>\n",
       "      <td>954</td>\n",
       "      <td>10520344</td>\n",
       "      <td>nd_owl</td>\n",
       "      <td>2023-08-09 21:13:52</td>\n",
       "      <td>0.00000</td>\n",
       "      <td>5</td>\n",
       "      <td>singhapoorva</td>\n",
       "    </tr>\n",
       "  </tbody>\n",
       "</table>\n",
       "<p>954 rows × 7 columns</p>\n",
       "</div>"
      ],
      "text/plain": [
       "     Rank    TeamId            TeamName   LastSubmissionDate    Score  \\\n",
       "0       1  10581265          🐢 Jun Koda  2023-08-09 13:12:53  0.72432   \n",
       "1       2  10597072                 DIT  2023-08-09 19:27:14  0.72304   \n",
       "2       3  10582935  Preferred Contrail  2023-08-09 17:17:18  0.72259   \n",
       "3       4  10438139                 KDL  2023-08-09 14:51:35  0.71498   \n",
       "4       5  10372267      Fight for Gold  2023-08-09 17:45:58  0.71489   \n",
       "..    ...       ...                 ...                  ...      ...   \n",
       "949   950  10570104       Igor Krasikov  2023-06-18 19:31:20  0.00000   \n",
       "950   951  10544811               peace  2023-07-18 13:14:33  0.00000   \n",
       "951   952  10715165         Navid Navid  2023-07-24 16:18:11  0.00000   \n",
       "952   953  10450917          BadApple34  2023-08-09 08:32:50  0.00000   \n",
       "953   954  10520344              nd_owl  2023-08-09 21:13:52  0.00000   \n",
       "\n",
       "     SubmissionCount            TeamMemberUserNames  \n",
       "0                 49                        junkoda  \n",
       "1                 47        drhabib,iafoss,theoviel  \n",
       "2                161  charmq,knshnb,yoichi7yamakawa  \n",
       "3                229        ivanpan,mpware,selimsef  \n",
       "4                198           imakarov,wuliaokaola  \n",
       "..               ...                            ...  \n",
       "949                1                   igorkrasikov  \n",
       "950                1        justinlamlamlam,kebenny  \n",
       "951                3                    nickyazdani  \n",
       "952                3                     badapple34  \n",
       "953                5                   singhapoorva  \n",
       "\n",
       "[954 rows x 7 columns]"
      ]
     },
     "execution_count": 7,
     "metadata": {},
     "output_type": "execute_result"
    }
   ],
   "source": [
    "df"
   ]
  },
  {
   "cell_type": "code",
   "execution_count": 8,
   "id": "a4c51fc4",
   "metadata": {},
   "outputs": [
    {
     "data": {
      "text/html": [
       "<div>\n",
       "<style scoped>\n",
       "    .dataframe tbody tr th:only-of-type {\n",
       "        vertical-align: middle;\n",
       "    }\n",
       "\n",
       "    .dataframe tbody tr th {\n",
       "        vertical-align: top;\n",
       "    }\n",
       "\n",
       "    .dataframe thead th {\n",
       "        text-align: right;\n",
       "    }\n",
       "</style>\n",
       "<table border=\"1\" class=\"dataframe\">\n",
       "  <thead>\n",
       "    <tr style=\"text-align: right;\">\n",
       "      <th></th>\n",
       "      <th>Rank</th>\n",
       "      <th>TeamId</th>\n",
       "      <th>TeamName</th>\n",
       "      <th>LastSubmissionDate</th>\n",
       "      <th>Score</th>\n",
       "      <th>SubmissionCount</th>\n",
       "      <th>TeamMemberUserNames</th>\n",
       "    </tr>\n",
       "  </thead>\n",
       "  <tbody>\n",
       "    <tr>\n",
       "      <th>604</th>\n",
       "      <td>605</td>\n",
       "      <td>10539885</td>\n",
       "      <td>tomlqc</td>\n",
       "      <td>2023-08-07 05:58:43</td>\n",
       "      <td>0.6336</td>\n",
       "      <td>22</td>\n",
       "      <td>tomlqc</td>\n",
       "    </tr>\n",
       "  </tbody>\n",
       "</table>\n",
       "</div>"
      ],
      "text/plain": [
       "     Rank    TeamId TeamName   LastSubmissionDate   Score  SubmissionCount  \\\n",
       "604   605  10539885   tomlqc  2023-08-07 05:58:43  0.6336               22   \n",
       "\n",
       "    TeamMemberUserNames  \n",
       "604              tomlqc  "
      ]
     },
     "execution_count": 8,
     "metadata": {},
     "output_type": "execute_result"
    }
   ],
   "source": [
    "my_row = df[df['TeamMemberUserNames'] == 'tomlqc']\n",
    "my_score = my_row['Score'].values[0]\n",
    "my_row"
   ]
  },
  {
   "cell_type": "code",
   "execution_count": 9,
   "id": "8cec8f9f",
   "metadata": {},
   "outputs": [
    {
     "data": {
      "image/png": "[encoded data removed]",
      "text/plain": [
       "<Figure size 640x480 with 1 Axes>"
      ]
     },
     "metadata": {},
     "output_type": "display_data"
    }
   ],
   "source": [
    "plt.hist(df['Score'], bins=20)\n",
    "plt.axvline(x=my_score, color='red')\n",
    "None"
   ]
  },
  {
   "cell_type": "code",
   "execution_count": 10,
   "id": "2710dc57",
   "metadata": {},
   "outputs": [
    {
     "data": {
      "image/png": "[encoded data removed]",
      "text/plain": [
       "<Figure size 640x480 with 1 Axes>"
      ]
     },
     "metadata": {},
     "output_type": "display_data"
    }
   ],
   "source": [
    "plt.hist(df['Score'], bins=40)\n",
    "plt.axvline(x=my_score, color='red')\n",
    "plt.xlim(0.4, 0.8)\n",
    "None"
   ]
  },
  {
   "cell_type": "code",
   "execution_count": 11,
   "id": "3ab1d32d",
   "metadata": {},
   "outputs": [],
   "source": [
    "all_num = df['Score'].count()"
   ]
  },
  {
   "cell_type": "code",
   "execution_count": 12,
   "id": "e70b6975",
   "metadata": {},
   "outputs": [
    {
     "name": "stdout",
     "output_type": "stream",
     "text": [
      "top  1%: 0.711 (10/954)\n",
      "top 10%: 0.680 (96/954)\n"
     ]
    }
   ],
   "source": [
    "for quantile in [1., 10.]:\n",
    "    top_quantile_score = df['Score'].quantile(q=(1 - quantile / 100))\n",
    "    top_quantile_num = (df['Score'] > top_quantile_score).sum()\n",
    "    print(f'top {quantile:2.0f}%: {top_quantile_score:.3f} ({top_quantile_num:2d}/{all_num})')"
   ]
  },
  {
   "cell_type": "code",
   "execution_count": null,
   "id": "747d2a50",
   "metadata": {},
   "outputs": [],
   "source": []
  }
 ],
 "metadata": {
  "kernelspec": {
   "display_name": "Python 3 (ipykernel)",
   "language": "python",
   "name": "python3"
  },
  "language_info": {
   "codemirror_mode": {
    "name": "ipython",
    "version": 3
   },
   "file_extension": ".py",
   "mimetype": "text/x-python",
   "name": "python",
   "nbconvert_exporter": "python",
   "pygments_lexer": "ipython3",
   "version": "3.8.10"
  }
 },
 "nbformat": 4,
 "nbformat_minor": 5
}
